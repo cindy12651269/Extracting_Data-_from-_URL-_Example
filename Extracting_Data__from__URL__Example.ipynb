{
  "nbformat": 4,
  "nbformat_minor": 0,
  "metadata": {
    "colab": {
      "provenance": [],
      "authorship_tag": "ABX9TyPlQCBAxoAt5na9BZtA4/V/",
      "include_colab_link": true
    },
    "kernelspec": {
      "name": "python3",
      "display_name": "Python 3"
    },
    "language_info": {
      "name": "python"
    }
  },
  "cells": [
    {
      "cell_type": "markdown",
      "metadata": {
        "id": "view-in-github",
        "colab_type": "text"
      },
      "source": [
        "<a href=\"https://colab.research.google.com/github/cindy12651269/Extracting_Data_from_URL_Example/blob/cindy12651269%2Fhw1/Extracting_Data__from__URL__Example.ipynb\" target=\"_parent\"><img src=\"https://colab.research.google.com/assets/colab-badge.svg\" alt=\"Open In Colab\"/></a>"
      ]
    },
    {
      "cell_type": "code",
      "execution_count": 27,
      "metadata": {
        "colab": {
          "base_uri": "https://localhost:8080/"
        },
        "id": "BZ-MteC7ZIYw",
        "outputId": "5636eed6-4a22-48a1-f810-2ee48f46bf4e"
      },
      "outputs": [
        {
          "output_type": "stream",
          "name": "stdout",
          "text": [
            "醫事機構數量前五高的縣市：縣市\n",
            "新北市    1256\n",
            "臺中市     855\n",
            "臺北市     780\n",
            "高雄市     718\n",
            "桃園市     670\n",
            "Name: count, dtype: int64\n"
          ]
        }
      ],
      "source": [
        "import pandas as pd\n",
        "import numpy as np\n",
        "\n",
        "# Load the data from the CSV file\n",
        "url = \"https://raw.githubusercontent.com/kiang/pharmacies/master/data.csv\"\n",
        "df = pd.read_csv(url)\n",
        "\n",
        "# Counting the number of occurrences of each city (縣市)\n",
        "city_count = df[\"縣市\"].value_counts()\n",
        "\n",
        "# Getting the top five cities with the highest number of occurrences\n",
        "top_five = city_count.head(5)\n",
        "\n",
        "# Printing the results\n",
        "print(f\"醫事機構數量前五高的縣市：{top_five}\")"
      ]
    }
  ]
}